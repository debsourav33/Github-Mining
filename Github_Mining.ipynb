{
  "nbformat": 4,
  "nbformat_minor": 0,
  "metadata": {
    "colab": {
      "provenance": []
    },
    "kernelspec": {
      "name": "python3",
      "display_name": "Python 3"
    },
    "language_info": {
      "name": "python"
    }
  },
  "cells": [
    {
      "cell_type": "code",
      "execution_count": 20,
      "metadata": {
        "id": "fC_RDqtmEwyD"
      },
      "outputs": [],
      "source": [
        "import requests\n",
        "import json\n",
        "from datetime import datetime"
      ]
    },
    {
      "cell_type": "code",
      "source": [
        "class GitHubRepository:\n",
        "    def __init__(self, name, owner,  description, homepage, license, forks, watchers, date_of_collection):\n",
        "        self.name = name\n",
        "        self.owner = owner\n",
        "        self.description = description\n",
        "        self.homepage = homepage\n",
        "        self.license = license  # License could be another class with its own attributes\n",
        "        self.forks = forks\n",
        "        self.watchers = watchers\n",
        "        self.date_of_collection = date_of_collection\n",
        "\n",
        "    @staticmethod\n",
        "    def parse(dict):\n",
        "      name = dict['name'] if 'name' in dict else None\n",
        "      owner = dict['owner']['login'] if 'owner' in dict and 'login' in dict['owner'] else None\n",
        "      description = dict['description'] if 'description' in dict else None\n",
        "      homepage = dict['homepage'] if 'homepage' in dict else None\n",
        "      forks = dict['forks'] if 'forks' in dict else None\n",
        "      watchers = dict['watchers'] if 'watchers' in dict else None\n",
        "      license = dict['license']['name'] if 'license' in dict and dict['license'] != None and 'name' in dict['license'] else None\n",
        "\n",
        "      #get current time in UTC\n",
        "      1971\n",
        "\n",
        "      time = datetime.now()\n",
        "      formatted_time = time.strftime(\"%Y-%m-%dT%H:%M:%SZ\")\n",
        "\n",
        "      return GitHubRepository(name, owner, description, homepage, license, forks, watchers, formatted_time)\n",
        "\n",
        "    def __str__(self):\n",
        "        return f\"{self.owner}/{self.name}: license = [{self.license}] homepage = [{self.homepage}] forks = ({self.forks}) watchers = ({self.watchers}) date of collection: {self.date_of_collection}\""
      ],
      "metadata": {
        "id": "Jv0iSQ8HNfP8"
      },
      "execution_count": 21,
      "outputs": []
    },
    {
      "cell_type": "code",
      "source": [
        "class PullRequest:\n",
        "  def __init__(self,user, title, number, body, state, created_at, closed_at):\n",
        "    self.user = user\n",
        "    self.title = title\n",
        "    self.number = number\n",
        "    self.body = body\n",
        "    self.state = state\n",
        "    self.created_at = created_at\n",
        "    self.closed_at = closed_at\n",
        "\n",
        "  @staticmethod\n",
        "  def parse(dict):\n",
        "    title = dict['title'] if 'title' in dict else None\n",
        "    user = dict['user']['login'] if 'user' in dict and 'login' in dict['user'] else None\n",
        "    number = dict['number'] if 'number' in dict else None\n",
        "    body = dict['body'] if 'body' in dict else None\n",
        "    state = dict['state'] if 'state' in dict else None\n",
        "    created_at = dict['created_at'] if 'created_at' in dict else None\n",
        "    closed_at = dict['closed_at'] if 'closed_at' in dict else None\n",
        "\n",
        "    return PullRequest(user,title,number,body,state,created_at,closed_at)\n",
        "\n",
        "  def __str__(self):\n",
        "    return f\"{self.user}/{self.title}: ({self.state}) ({self.number}) ({self.created_at}) ({self.closed_at})\""
      ],
      "metadata": {
        "id": "7cd3fkCTH-Iz"
      },
      "execution_count": 22,
      "outputs": []
    },
    {
      "cell_type": "code",
      "source": [
        "class PRStatus:\n",
        "  def __init__(self,number,commits,additions,deletions,changed_files):\n",
        "    self.number = number\n",
        "    self.commits = commits\n",
        "    self.additions = additions\n",
        "    self.deletions = deletions\n",
        "    self.changed_files = changed_files\n",
        "\n",
        "  @staticmethod\n",
        "  def parse(dict):\n",
        "    number = dict['number'] if 'number' in dict else None\n",
        "    commits = dict['commits'] if 'commits' in dict else None\n",
        "    additions = dict['additions'] if 'additions' in dict else None\n",
        "    deletions = dict['deletions'] if 'deletions' in dict else None\n",
        "    changed_files = dict['changed_files'] if 'changed_files' in dict else None\n",
        "\n",
        "    return PRStatus(number,commits,additions,deletions,changed_files)\n",
        "\n",
        "  def __str__(self):\n",
        "    return f\"PullRequest #{self.number}: commits = ({self.commits}) additions = ({self.additions}) deletions = ({self.deletions}) file changes = ({self.changed_files})\""
      ],
      "metadata": {
        "id": "GoajFKPZNhnz"
      },
      "execution_count": 23,
      "outputs": []
    },
    {
      "cell_type": "code",
      "source": [
        "class UserInfo:\n",
        "  def __init__(self, name, no_of_repos, followers, following):\n",
        "    self.name = name\n",
        "    self.no_of_repos = no_of_repos\n",
        "    self.followers = followers\n",
        "    self.following = following\n",
        "\n",
        "  @staticmethod\n",
        "  def parse(dict):\n",
        "    name = dict['name'] if 'name' in dict else None\n",
        "    no_of_repos = dict['public_repos'] if 'public_repos' in dict else None\n",
        "    followers = dict['followers'] if 'followers' in dict else None\n",
        "    following = dict['following'] if 'following' in dict else None\n",
        "\n",
        "    return UserInfo(name, no_of_repos, followers, following)\n",
        "\n",
        "  def set_contributions(self,contributions):\n",
        "    self.contributions = contributions\n",
        "\n",
        "\n",
        "\n",
        "  def __str__(self):\n",
        "    return f'{self.name}: repos = {self.no_of_repos}, followers = {self.followers}, following = {self.following}, contributions in last year = {self.contributions}'"
      ],
      "metadata": {
        "id": "qVWzFytsEhlq"
      },
      "execution_count": 24,
      "outputs": []
    },
    {
      "cell_type": "code",
      "source": [
        "# Get Repository\n",
        "\n",
        "owner = \"debsourav33\"\n",
        "repo_name = \"Leetcode-Solutions\"\n",
        "\n",
        "def get_repository(owner, repo) -> GitHubRepository :\n",
        "\n",
        "  url = f\"https://api.github.com/repos/{owner}/{repo}\"\n",
        "  response = requests.get(url)\n",
        "\n",
        "  if response.status_code != 200:\n",
        "    return None\n",
        "\n",
        "  resp_dict = response.json()\n",
        "  pretty_response = json.dumps(resp_dict, indent = 4)\n",
        "  #print(pretty_response)\n",
        "\n",
        "  return GitHubRepository.parse(resp_dict)\n",
        "\n",
        "github_repo = get_repository('ramnes', 'notion-sdk-py')\n",
        "print(github_repo)"
      ],
      "metadata": {
        "colab": {
          "base_uri": "https://localhost:8080/"
        },
        "id": "BJHMmuh5IKOA",
        "outputId": "cbecc7ed-3a45-45b4-f0c1-81e441088e0c"
      },
      "execution_count": 25,
      "outputs": [
        {
          "output_type": "stream",
          "name": "stdout",
          "text": [
            "ramnes/notion-sdk-py: license = [MIT License] homepage = [https://ramnes.github.io/notion-sdk-py] forks = (114) watchers = (1373) date of collection: 2023-11-18T02:31:07Z\n"
          ]
        }
      ]
    },
    {
      "cell_type": "code",
      "source": [
        "# Get Pull Request\n",
        "\n",
        "owner = \"jabref\"\n",
        "repo = \"jabref\"\n",
        "\n",
        "def getPullRequests(owner, repo):\n",
        "  url = f\"https://api.github.com/repos/{owner}/{repo}/pulls\"\n",
        "  print(url)\n",
        "  response = requests.get(url)\n",
        "\n",
        "  if response.status_code != 200:\n",
        "      print(f\"Status code: {response.status_code}\")\n",
        "      return None\n",
        "  else:\n",
        "    resp_list = response.json()\n",
        "    #print(len(resp_list))\n",
        "    ret = []\n",
        "    for item in resp_list:\n",
        "      pr= PullRequest.parse(item)\n",
        "      ret.append(pr)\n",
        "      #print(pr)\n",
        "    return ret\n",
        "\n",
        "\n",
        "def getPullRequestInfo(owner, repo, number):\n",
        "  url = f\"https://api.github.com/repos/{owner}/{repo}/pulls/{number}\"\n",
        "  response = requests.get(url)\n",
        "\n",
        "  if response.status_code != 200:\n",
        "      print(f\"Failed to retrieve pull requests. Status code: {response.status_code}\")\n",
        "      return None\n",
        "  else:\n",
        "    resp_dict = response.json()\n",
        "    #print(type(resp_dict))\n",
        "    #print(resp_dict)\n",
        "    pr_info = PRStatus.parse(resp_dict)\n",
        "    #print(pr_info)\n",
        "    return pr_info\n",
        "\n",
        "\n",
        "\n",
        "pull_requests = getPullRequests(owner,repo)\n",
        "limit = 5 #so that we don't reach api call limit\n",
        "\n",
        "for i in range(min(limit,len(pull_requests))):\n",
        "  pr = pull_requests[i]\n",
        "  if pr.number != None:\n",
        "    pr_info = getPullRequestInfo(owner, repo, pr.number)\n",
        "    print(pr_info)\n"
      ],
      "metadata": {
        "id": "-aUYiv9YQeGC",
        "colab": {
          "base_uri": "https://localhost:8080/"
        },
        "outputId": "bb768021-f560-4c78-ba84-b0f470837992"
      },
      "execution_count": 26,
      "outputs": [
        {
          "output_type": "stream",
          "name": "stdout",
          "text": [
            "https://api.github.com/repos/jabref/jabref/pulls\n",
            "PullRequest #10646: commits = (24) additions = (118672) deletions = (49651) file changes = (1975)\n",
            "PullRequest #10620: commits = (7) additions = (70) deletions = (9) file changes = (10)\n",
            "PullRequest #10610: commits = (4) additions = (167) deletions = (91) file changes = (12)\n",
            "PullRequest #10592: commits = (29) additions = (474) deletions = (13) file changes = (17)\n",
            "PullRequest #10591: commits = (22) additions = (142) deletions = (30) file changes = (10)\n"
          ]
        }
      ]
    },
    {
      "cell_type": "code",
      "source": [
        "# Get User Info\n",
        "\n",
        "user = \"jabref\"\n",
        "\n",
        "\n",
        "def getUserInfo(user):\n",
        "  url = f'https://api.github.com/users/{user}'\n",
        "\n",
        "  user_info = None\n",
        "  response = requests.get(url)\n",
        "\n",
        "  if response.status_code != 200:\n",
        "    print(f\"Status code for {url}: {response.status_code}\")\n",
        "    return None\n",
        "  else:\n",
        "    resp_dict = response.json()\n",
        "    user_info = UserInfo.parse(resp_dict)\n",
        "    #print(json.dumps(resp_dict,indent = 4))\n",
        "\n",
        "  #contributions\n",
        "  url = f\"https://api.github.com/users/{user}/events\"\n",
        "  response = requests.get(url)\n",
        "\n",
        "  if response.status_code != 200:\n",
        "    print(f\"Status code for {url}: {response.status_code}\")\n",
        "  else:\n",
        "    events = response.json()\n",
        "    contributions = 0\n",
        "\n",
        "    for event in events:\n",
        "      if event.get('type','null') == 'PushEvent':\n",
        "        #print(json.dumps(event, indent=4))\n",
        "\n",
        "        #check if the contribution was made this year\n",
        "        created_at = event.get('created_at','')\n",
        "        if created_at != '':\n",
        "          created_year = datetime.strptime(created_at, '%Y-%m-%dT%H:%M:%SZ').year\n",
        "          curr_year = datetime.now().year\n",
        "\n",
        "          if curr_year == created_year:\n",
        "            contributions += 1\n",
        "\n",
        "\n",
        "    if user_info != None:\n",
        "      user_info.set_contributions(contributions)\n",
        "\n",
        "    return user_info\n",
        "\n",
        "user_info = getUserInfo(user)\n",
        "print(user_info)"
      ],
      "metadata": {
        "colab": {
          "base_uri": "https://localhost:8080/"
        },
        "id": "yvu4pNNA0UEv",
        "outputId": "64ac5781-337b-48dd-c685-1a6238fbb9b4"
      },
      "execution_count": 27,
      "outputs": [
        {
          "output_type": "stream",
          "name": "stdout",
          "text": [
            "JabRef e.V.: repos = 45, followers = 63, following = 0, contributions in last year = 1\n"
          ]
        }
      ]
    }
  ]
}