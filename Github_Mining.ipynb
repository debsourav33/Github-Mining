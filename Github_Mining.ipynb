{
  "nbformat": 4,
  "nbformat_minor": 0,
  "metadata": {
    "colab": {
      "provenance": []
    },
    "kernelspec": {
      "name": "python3",
      "display_name": "Python 3"
    },
    "language_info": {
      "name": "python"
    }
  },
  "cells": [
    {
      "cell_type": "code",
      "execution_count": 1,
      "metadata": {
        "id": "fC_RDqtmEwyD"
      },
      "outputs": [],
      "source": [
        "import requests\n",
        "import json"
      ]
    },
    {
      "cell_type": "code",
      "source": [
        "class GitHubRepository:\n",
        "    def __init__(self, name, owner,  description, homepage, license, forks, watchers):\n",
        "        self.name = name\n",
        "        self.owner = owner\n",
        "        self.description = description\n",
        "        self.homepage = homepage\n",
        "        self.license = license  # License could be another class with its own attributes\n",
        "        self.forks = forks\n",
        "        #self.date_of_collection = date_of_collection\n",
        "        self.watchers = watchers\n",
        "\n",
        "    def __str__(self):\n",
        "        return f\"{self.owner}/{self.name}: license = ({self.license}) forks = ({self.forks}) watchers = ({self.watchers})\""
      ],
      "metadata": {
        "id": "Jv0iSQ8HNfP8"
      },
      "execution_count": 24,
      "outputs": []
    },
    {
      "cell_type": "code",
      "source": [
        "class PullRequest:\n",
        "\n",
        "  def parse(self, dict):\n",
        "    self.title = dict['title'] if 'title' in dict else None\n",
        "    self.number = dict['number'] if 'number' in dict else None\n",
        "    self.body = dict['body'] if 'body' in dict else None\n",
        "    self.state = dict['state'] if 'state' in dict else None\n",
        "    self.created_at = dict['created_at'] if 'created_at' in dict else None\n",
        "    self.user = dict['user']['login'] if 'user' in dict and 'login' in dict['user'] else None\n",
        "    self.closed_at = dict['closed_at'] if 'closed_at' in dict else None\n",
        "\n",
        "  def __str__(self):\n",
        "    return f\"{self.user}/{self.title}: ({self.state}) ({self.number}) ({self.created_at}) ({self.closed_at})\""
      ],
      "metadata": {
        "id": "7cd3fkCTH-Iz"
      },
      "execution_count": 3,
      "outputs": []
    },
    {
      "cell_type": "code",
      "source": [
        "class PRStatus:\n",
        "  def __init__(self,number,commits,additions,deletions,changed_files):\n",
        "    self.number = number\n",
        "    self.commits = commits\n",
        "    self.additions = additions\n",
        "    self.deletions = deletions\n",
        "    self.changed_files = changed_files\n",
        "\n",
        "  @staticmethod\n",
        "  def parse(dict):\n",
        "    number = dict['number'] if 'number' in dict else None\n",
        "    commits = dict['commits'] if 'commits' in dict else None\n",
        "    additions = dict['additions'] if 'additions' in dict else None\n",
        "    deletions = dict['deletions'] if 'deletions' in dict else None\n",
        "    changed_files = dict['changed_files'] if 'changed_files' in dict else None\n",
        "\n",
        "    return PRStatus(number,commits,additions,deletions,changed_files)\n",
        "\n",
        "  def __str__(self):\n",
        "    return f\"{self.number}: commits = ({self.commits}) additions = ({self.additions}) deletions = ({self.deletions}) file changes = ({self.changed_files})\""
      ],
      "metadata": {
        "id": "GoajFKPZNhnz"
      },
      "execution_count": 22,
      "outputs": []
    },
    {
      "cell_type": "code",
      "source": [
        "class UserInfo:\n",
        "  def __init__(self, name, no_of_repos, followers, following):\n",
        "    self.name = name\n",
        "    self.no_of_repos = no_of_repos\n",
        "    self.followers = followers\n",
        "    self.following = following\n",
        "\n",
        "  @staticmethod\n",
        "  def parse(dict):\n",
        "    name = dict['name'] if 'name' in dict else None\n",
        "    no_of_repos = dict['public_repos'] if 'public_repos' in dict else None\n",
        "    followers = dict['followers'] if 'followers' in dict else None\n",
        "    following = dict['following'] if 'following' in dict else None\n",
        "\n",
        "    return UserInfo(name, no_of_repos, followers, following)\n",
        "\n",
        "  def __str__(self):\n",
        "    return f'{self.name}: repos = {self.no_of_repos}, followers = {self.followers}, following = {self.following}'"
      ],
      "metadata": {
        "id": "qVWzFytsEhlq"
      },
      "execution_count": 18,
      "outputs": []
    },
    {
      "cell_type": "code",
      "source": [
        "owner = \"debsourav33\"\n",
        "repo_name = \"Leetcode-Solutions\"\n",
        "\n",
        "def get_repository(owner, repo) -> GitHubRepository :\n",
        "\n",
        "  url = f\"https://api.github.com/repos/{owner}/{repo}\"\n",
        "  response = requests.get(url)\n",
        "\n",
        "  if response.status_code != 200:\n",
        "    return None\n",
        "\n",
        "  resp_dict = response.json()\n",
        "  #print(resp_dict)\n",
        "\n",
        "  name = resp_dict['name'] if 'name' in resp_dict else None\n",
        "  owner = resp_dict['owner']['login'] if 'owner' in resp_dict and 'login' in resp_dict['owner'] else None\n",
        "  description = resp_dict['description'] if 'description' in resp_dict else None\n",
        "  forks = resp_dict['forks'] if 'forks' in resp_dict else None\n",
        "  watchers = resp_dict['watchers'] if 'watchers' in resp_dict else None\n",
        "  license = resp_dict['license']['name'] if 'license' in resp_dict and resp_dict['license'] != None and 'name' in resp_dict['license'] else None\n",
        "\n",
        "  pretty_response = json.dumps(resp_dict, indent = 4)\n",
        "  #print(pretty_response)\n",
        "\n",
        "  return GitHubRepository(name, owner, description, None, license, forks, watchers)\n",
        "  #print(pretty_response)\n",
        "\n",
        "github_repo = get_repository('ramnes', 'notion-sdk-py')\n",
        "print(github_repo)"
      ],
      "metadata": {
        "colab": {
          "base_uri": "https://localhost:8080/"
        },
        "id": "BJHMmuh5IKOA",
        "outputId": "394054b8-e777-41b5-be5f-334a466c2a74"
      },
      "execution_count": 26,
      "outputs": [
        {
          "output_type": "stream",
          "name": "stdout",
          "text": [
            "ramnes/notion-sdk-py: license = (MIT License) forks = (114) watchers = (1371)\n"
          ]
        }
      ]
    },
    {
      "cell_type": "code",
      "source": [
        "#-Pull Request\n",
        "\n",
        "owner = \"jabref\"\n",
        "repo = \"jabref\"\n",
        "\n",
        "def getPullRequests(owner, repo):\n",
        "  url = f\"https://api.github.com/repos/{owner}/{repo}/pulls\"\n",
        "  print(url)\n",
        "  response = requests.get(url)\n",
        "\n",
        "  if response.status_code != 200:\n",
        "      print(f\"Status code: {response.status_code}\")\n",
        "      return None\n",
        "  else:\n",
        "    resp_list = response.json()\n",
        "    #print(len(resp_list))\n",
        "    ret = []\n",
        "    for item in resp_list:\n",
        "      pr= PullRequest()\n",
        "      pr.parse(item)\n",
        "      ret.append(pr)\n",
        "      #print(pr)\n",
        "    return ret\n",
        "\n",
        "\n",
        "def getPullRequestInfo(owner, repo, number):\n",
        "  url = f\"https://api.github.com/repos/{owner}/{repo}/pulls/{number}\"\n",
        "  response = requests.get(url)\n",
        "\n",
        "  if response.status_code != 200:\n",
        "      print(f\"Failed to retrieve pull requests. Status code: {response.status_code}\")\n",
        "      return None\n",
        "  else:\n",
        "    resp_dict = response.json()\n",
        "    #print(type(resp_dict))\n",
        "    #print(resp_dict)\n",
        "    pr_info = PRStatus.parse(resp_dict)\n",
        "    #print(pr_info)\n",
        "    return pr_info\n",
        "\n",
        "\n",
        "pull_requests = getPullRequests(owner,repo)\n",
        "for pr in pull_requests:\n",
        "  if pr.number != None:\n",
        "    pr_info = getPullRequestInfo(owner, repo, pr.number)\n",
        "    print(pr_info)\n"
      ],
      "metadata": {
        "id": "-aUYiv9YQeGC",
        "colab": {
          "base_uri": "https://localhost:8080/"
        },
        "outputId": "9103cc87-5c53-44b7-e818-3bb055566ee7"
      },
      "execution_count": 23,
      "outputs": [
        {
          "output_type": "stream",
          "name": "stdout",
          "text": [
            "https://api.github.com/repos/jabref/jabref/pulls\n",
            "10620: commits = (7) additions = (70) deletions = (9) file changes = (10)\n",
            "10610: commits = (4) additions = (167) deletions = (91) file changes = (12)\n",
            "10592: commits = (29) additions = (474) deletions = (13) file changes = (17)\n",
            "10591: commits = (22) additions = (142) deletions = (30) file changes = (10)\n",
            "10586: commits = (36) additions = (2837) deletions = (24) file changes = (47)\n",
            "10582: commits = (13) additions = (38) deletions = (4) file changes = (4)\n",
            "10578: commits = (12) additions = (222) deletions = (174) file changes = (12)\n",
            "10577: commits = (2) additions = (77) deletions = (22) file changes = (4)\n",
            "10565: commits = (7) additions = (29) deletions = (0) file changes = (2)\n",
            "10541: commits = (3) additions = (56158) deletions = (3) file changes = (5)\n",
            "10540: commits = (5) additions = (254) deletions = (13) file changes = (4)\n",
            "10526: commits = (10) additions = (94) deletions = (6) file changes = (4)\n",
            "10521: commits = (9) additions = (73) deletions = (3) file changes = (4)\n",
            "10519: commits = (7) additions = (250) deletions = (0) file changes = (10)\n",
            "10518: commits = (37) additions = (399) deletions = (20) file changes = (9)\n",
            "10496: commits = (44) additions = (172) deletions = (16) file changes = (8)\n",
            "10475: commits = (10) additions = (547) deletions = (442) file changes = (13)\n",
            "10437: commits = (9) additions = (562) deletions = (0) file changes = (11)\n",
            "10386: commits = (10) additions = (96) deletions = (8) file changes = (8)\n",
            "10193: commits = (18) additions = (306) deletions = (0) file changes = (20)\n",
            "9717: commits = (5) additions = (46) deletions = (6) file changes = (4)\n",
            "8963: commits = (110) additions = (1591) deletions = (2501) file changes = (99)\n",
            "8496: commits = (26) additions = (122) deletions = (55) file changes = (13)\n",
            "8456: commits = (3) additions = (13) deletions = (15) file changes = (2)\n",
            "8356: commits = (103) additions = (4563) deletions = (268) file changes = (74)\n",
            "7832: commits = (75) additions = (1538) deletions = (9) file changes = (34)\n",
            "7754: commits = (7) additions = (4) deletions = (0) file changes = (2)\n"
          ]
        }
      ]
    },
    {
      "cell_type": "code",
      "source": [
        "user = \"jabref\"\n",
        "\n",
        "\n",
        "def getUserInfo(user):\n",
        "  url = f'https://api.github.com/users/{user}'\n",
        "\n",
        "  response = requests.get(url)\n",
        "\n",
        "  if response.status_code != 200:\n",
        "    print(f\"Status code: {response.status_code}\")\n",
        "    return None\n",
        "  else:\n",
        "    resp_dict = response.json()\n",
        "    print(json.dumps(resp_dict,indent = 4))\n",
        "    user_info = UserInfo.parse(resp_dict)\n",
        "    print(user_info)\n",
        "\n",
        "\n",
        "getUserInfo(user)\n"
      ],
      "metadata": {
        "colab": {
          "base_uri": "https://localhost:8080/"
        },
        "id": "yvu4pNNA0UEv",
        "outputId": "f0a7e14c-7dfa-421a-a7b7-45552fb3050a"
      },
      "execution_count": 21,
      "outputs": [
        {
          "output_type": "stream",
          "name": "stdout",
          "text": [
            "{\n",
            "    \"login\": \"JabRef\",\n",
            "    \"id\": 3914421,\n",
            "    \"node_id\": \"MDEyOk9yZ2FuaXphdGlvbjM5MTQ0MjE=\",\n",
            "    \"avatar_url\": \"https://avatars.githubusercontent.com/u/3914421?v=4\",\n",
            "    \"gravatar_id\": \"\",\n",
            "    \"url\": \"https://api.github.com/users/JabRef\",\n",
            "    \"html_url\": \"https://github.com/JabRef\",\n",
            "    \"followers_url\": \"https://api.github.com/users/JabRef/followers\",\n",
            "    \"following_url\": \"https://api.github.com/users/JabRef/following{/other_user}\",\n",
            "    \"gists_url\": \"https://api.github.com/users/JabRef/gists{/gist_id}\",\n",
            "    \"starred_url\": \"https://api.github.com/users/JabRef/starred{/owner}{/repo}\",\n",
            "    \"subscriptions_url\": \"https://api.github.com/users/JabRef/subscriptions\",\n",
            "    \"organizations_url\": \"https://api.github.com/users/JabRef/orgs\",\n",
            "    \"repos_url\": \"https://api.github.com/users/JabRef/repos\",\n",
            "    \"events_url\": \"https://api.github.com/users/JabRef/events{/privacy}\",\n",
            "    \"received_events_url\": \"https://api.github.com/users/JabRef/received_events\",\n",
            "    \"type\": \"Organization\",\n",
            "    \"site_admin\": false,\n",
            "    \"name\": \"JabRef e.V.\",\n",
            "    \"company\": null,\n",
            "    \"blog\": \"https://www.jabref.org\",\n",
            "    \"location\": \"Sindelfingen, Germany\",\n",
            "    \"email\": null,\n",
            "    \"hireable\": null,\n",
            "    \"bio\": null,\n",
            "    \"twitter_username\": \"jabref_org\",\n",
            "    \"public_repos\": 45,\n",
            "    \"public_gists\": 0,\n",
            "    \"followers\": 63,\n",
            "    \"following\": 0,\n",
            "    \"created_at\": \"2013-03-19T21:41:25Z\",\n",
            "    \"updated_at\": \"2023-02-01T18:42:39Z\"\n",
            "}\n",
            "JabRef e.V.: repos = 45, followers = 63, following = 0\n"
          ]
        }
      ]
    }
  ]
}